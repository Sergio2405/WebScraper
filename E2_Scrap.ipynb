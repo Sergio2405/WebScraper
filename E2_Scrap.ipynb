{
 "cells": [
  {
   "cell_type": "code",
   "execution_count": 6,
   "metadata": {},
   "outputs": [],
   "source": [
    "from bs4 import BeautifulSoup\n",
    "import requests\n",
    "import pandas as pd\n",
    "\n",
    "#  nombre a variables\n",
    "#documentar funciones\n",
    "# extraer extiquets de un txt\n",
    "#que pide el nmbre del archivo\n",
    "#NO NOTEBOOK, en python\n",
    "#codigo debe saber el nombre de las variables:   Data, descargar daatos, comparar variables de DATA y del scrap.\n",
    "#por cada variable ()   retornar una linea de confirmacion   si son iguales o no\n",
    "\n",
    "#crear issue por cada tarea"
   ]
  },
  {
   "cell_type": "code",
   "execution_count": null,
   "metadata": {},
   "outputs": [],
   "source": [
    "# gai84tct  a2cv2hv4   qieuzyq5         #etiquetas ejemplo  "
   ]
  },
  {
   "cell_type": "code",
   "execution_count": 2,
   "metadata": {},
   "outputs": [
    {
     "name": "stdout",
     "output_type": "stream",
     "text": [
      "3\n"
     ]
    }
   ],
   "source": [
    "#n_participantes = int(input())"
   ]
  },
  {
   "cell_type": "code",
   "execution_count": null,
   "metadata": {},
   "outputs": [],
   "source": []
  },
  {
   "cell_type": "code",
   "execution_count": 12,
   "metadata": {},
   "outputs": [
    {
     "data": {
      "text/plain": [
       "3"
      ]
     },
     "execution_count": 12,
     "metadata": {},
     "output_type": "execute_result"
    }
   ],
   "source": [
    "lab = [\"gai84tct\",\"a2cv2hv4\",\"qieuzyq5\"]   #Extraer desde HTML\n",
    "len(lab)"
   ]
  },
  {
   "cell_type": "code",
   "execution_count": 13,
   "metadata": {},
   "outputs": [],
   "source": [
    "P = []\n",
    "participante = []               #lista que almacenara id  participantes\n",
    "label = []            #lista que almacenara  label\n",
    "contribucion = []            #lista que almacenara  contribucion x ronda\n",
    "ganancia = []            #lista que almacenara ganancia + monto no enviado final de ronda\n",
    "\n",
    "\n",
    "#\n",
    "def Funcion_extrae_valores(y):\n",
    "    \"\"\"\n",
    "    esta funcion extrae los resultados de cada jugador por ronda\n",
    "    \n",
    "    input: etiquetas de los jugadores ( lista )\n",
    "    output: None\n",
    "    \"\"\"\n",
    "    \n",
    "    cantidad_etiquetas =len(y)\n",
    "    \n",
    "    # #\n",
    "    for i in range(cantidad_etiquetas):        \n",
    "        participante.append(i+1)\n",
    "\n",
    "        x = lab[i]\n",
    "\n",
    "        P.append(x)\n",
    "        urlP = \"https://otree-demo.herokuapp.com/p/\" +str(x) + \"/public_goods/Results/4\"\n",
    "        print(urlP)\n",
    "        htmlP = requests.get(urlP).content \n",
    "        soupP = BeautifulSoup(htmlP,'lxml')            #  parser    lxml\n",
    "        textoP = soupP.find_all('td')              # buscar tag \"td\" \n",
    "        Y = []\n",
    "        \n",
    "        # #\n",
    "        for i in textoP:\n",
    "            #L.append(i)   \n",
    "            Y.append(i.text)                # extraer texto (numero esta en str)\n",
    "            #print(i.text)\n",
    "        print(Y[1], \" contribucion\")\n",
    "        print(Y[14], \"ganancia colectiva\")\n",
    "        print(Y[17], \"resultado\")\n",
    "\n",
    "        label.append(x)  # x = valor string de etiqueta\n",
    "        contribucion.append(Y[14])\n",
    "        ganancia.append(Y[17])\n"
   ]
  },
  {
   "cell_type": "code",
   "execution_count": 14,
   "metadata": {
    "scrolled": true
   },
   "outputs": [
    {
     "name": "stdout",
     "output_type": "stream",
     "text": [
      "https://otree-demo.herokuapp.com/p/gai84tct/public_goods/Results/4\n",
      "10 points  contribucion\n",
      "40 points ganancia colectiva\n",
      "130 points resultado\n",
      "https://otree-demo.herokuapp.com/p/a2cv2hv4/public_goods/Results/4\n",
      "20 points  contribucion\n",
      "40 points ganancia colectiva\n",
      "120 points resultado\n",
      "https://otree-demo.herokuapp.com/p/qieuzyq5/public_goods/Results/4\n",
      "30 points  contribucion\n",
      "40 points ganancia colectiva\n",
      "110 points resultado\n"
     ]
    }
   ],
   "source": [
    "Funcion_extrae_valores(lab)"
   ]
  },
  {
   "cell_type": "code",
   "execution_count": null,
   "metadata": {},
   "outputs": [],
   "source": []
  },
  {
   "cell_type": "code",
   "execution_count": null,
   "metadata": {},
   "outputs": [],
   "source": []
  },
  {
   "cell_type": "code",
   "execution_count": null,
   "metadata": {},
   "outputs": [],
   "source": []
  },
  {
   "cell_type": "code",
   "execution_count": null,
   "metadata": {},
   "outputs": [],
   "source": []
  },
  {
   "cell_type": "code",
   "execution_count": null,
   "metadata": {},
   "outputs": [],
   "source": []
  },
  {
   "cell_type": "code",
   "execution_count": null,
   "metadata": {},
   "outputs": [],
   "source": []
  },
  {
   "cell_type": "code",
   "execution_count": null,
   "metadata": {},
   "outputs": [],
   "source": []
  },
  {
   "cell_type": "code",
   "execution_count": null,
   "metadata": {},
   "outputs": [],
   "source": []
  },
  {
   "cell_type": "code",
   "execution_count": null,
   "metadata": {},
   "outputs": [],
   "source": []
  },
  {
   "cell_type": "code",
   "execution_count": null,
   "metadata": {},
   "outputs": [],
   "source": []
  },
  {
   "cell_type": "code",
   "execution_count": null,
   "metadata": {},
   "outputs": [],
   "source": []
  },
  {
   "cell_type": "code",
   "execution_count": null,
   "metadata": {},
   "outputs": [],
   "source": []
  },
  {
   "cell_type": "code",
   "execution_count": null,
   "metadata": {},
   "outputs": [],
   "source": []
  },
  {
   "cell_type": "code",
   "execution_count": 3,
   "metadata": {},
   "outputs": [
    {
     "name": "stdout",
     "output_type": "stream",
     "text": [
      "gai84tct\n",
      "https://otree-demo.herokuapp.com/p/gai84tct/public_goods/Results/4\n",
      "10 points  contribucion\n",
      "40 points ganancia colectiva\n",
      "130 points resultado\n",
      "a2cv2hv4\n",
      "https://otree-demo.herokuapp.com/p/a2cv2hv4/public_goods/Results/4\n",
      "20 points  contribucion\n",
      "40 points ganancia colectiva\n",
      "120 points resultado\n",
      "qieuzyq5\n",
      "https://otree-demo.herokuapp.com/p/qieuzyq5/public_goods/Results/4\n",
      "30 points  contribucion\n",
      "40 points ganancia colectiva\n",
      "110 points resultado\n"
     ]
    }
   ],
   "source": [
    "P = []\n",
    "participante = []               #lista que almacenara id  participantes\n",
    "label = []            #lista que almacenara  label\n",
    "contribucion = []            #lista que almacenara  contribucion x ronda\n",
    "ganancia = []            #lista que almacenara ganancia + monto no enviado final de ronda\n",
    "\n",
    "\n",
    "#\n",
    "#def F1():\n",
    "    \n",
    "for i in range(n_participantes):\n",
    "    participante.append(i+1)\n",
    "    x = input()\n",
    "    while len(x)!= 8:\n",
    "        print(\"ingrese digitos correctos\")            #    no permite ingreso de etiquetas != 8 digitos\n",
    "        x = input()\n",
    "        \n",
    "    P.append(x)\n",
    "    urlP = \"https://otree-demo.herokuapp.com/p/\" +str(x) + \"/public_goods/Results/4\"\n",
    "    print(urlP)\n",
    "    htmlP = requests.get(urlP).content \n",
    "    soupP = BeautifulSoup(htmlP,'lxml')            #  parser    lxml\n",
    "    textoP = soupP.find_all('td')              # buscar tag \"td\" \n",
    "    Y = []\n",
    "    for i in textoP:\n",
    "        #L.append(i)   \n",
    "        Y.append(i.text)                # extraer texto (numero esta en str)\n",
    "        #print(i.text)\n",
    "    print(Y[1], \" contribucion\")\n",
    "    print(Y[14], \"ganancia colectiva\")\n",
    "    print(Y[17], \"resultado\")\n",
    "    \n",
    "    label.append(x)  # x = valor string de etiqueta\n",
    "    contribucion.append(Y[14])\n",
    "    ganancia.append(Y[17])\n",
    "    \n",
    "    \n",
    "    "
   ]
  },
  {
   "cell_type": "code",
   "execution_count": 149,
   "metadata": {},
   "outputs": [],
   "source": [
    "columnas =  \n",
    "filas = [] \n"
   ]
  },
  {
   "cell_type": "code",
   "execution_count": 4,
   "metadata": {},
   "outputs": [
    {
     "name": "stdout",
     "output_type": "stream",
     "text": [
      "[1, 2, 3]\n",
      "['gai84tct', 'a2cv2hv4', 'qieuzyq5']\n",
      "['40 points', '40 points', '40 points']\n",
      "['130 points', '120 points', '110 points']\n"
     ]
    }
   ],
   "source": [
    "print(participante)\n",
    "print(label)\n",
    "print(contribucion)\n",
    "print(ganancia)"
   ]
  },
  {
   "cell_type": "code",
   "execution_count": 167,
   "metadata": {},
   "outputs": [],
   "source": [
    "#df = pd.DataFrame(_____, columns = ['participante', 'label', 'contribución', 'ganancia'])"
   ]
  },
  {
   "cell_type": "code",
   "execution_count": null,
   "metadata": {},
   "outputs": [],
   "source": [
    "#      creamos dataframe para almacenar valores"
   ]
  },
  {
   "cell_type": "code",
   "execution_count": 5,
   "metadata": {},
   "outputs": [],
   "source": [
    "df = pd.DataFrame(list(zip(participante,label,contribucion,ganancia)), columns = ['participante', 'label', 'contribucion', 'ganancia'])"
   ]
  },
  {
   "cell_type": "code",
   "execution_count": 6,
   "metadata": {},
   "outputs": [
    {
     "data": {
      "text/html": [
       "<div>\n",
       "<style scoped>\n",
       "    .dataframe tbody tr th:only-of-type {\n",
       "        vertical-align: middle;\n",
       "    }\n",
       "\n",
       "    .dataframe tbody tr th {\n",
       "        vertical-align: top;\n",
       "    }\n",
       "\n",
       "    .dataframe thead th {\n",
       "        text-align: right;\n",
       "    }\n",
       "</style>\n",
       "<table border=\"1\" class=\"dataframe\">\n",
       "  <thead>\n",
       "    <tr style=\"text-align: right;\">\n",
       "      <th></th>\n",
       "      <th>participante</th>\n",
       "      <th>label</th>\n",
       "      <th>contribucion</th>\n",
       "      <th>ganancia</th>\n",
       "    </tr>\n",
       "  </thead>\n",
       "  <tbody>\n",
       "    <tr>\n",
       "      <th>0</th>\n",
       "      <td>1</td>\n",
       "      <td>gai84tct</td>\n",
       "      <td>40 points</td>\n",
       "      <td>130 points</td>\n",
       "    </tr>\n",
       "    <tr>\n",
       "      <th>1</th>\n",
       "      <td>2</td>\n",
       "      <td>a2cv2hv4</td>\n",
       "      <td>40 points</td>\n",
       "      <td>120 points</td>\n",
       "    </tr>\n",
       "    <tr>\n",
       "      <th>2</th>\n",
       "      <td>3</td>\n",
       "      <td>qieuzyq5</td>\n",
       "      <td>40 points</td>\n",
       "      <td>110 points</td>\n",
       "    </tr>\n",
       "  </tbody>\n",
       "</table>\n",
       "</div>"
      ],
      "text/plain": [
       "   participante     label contribucion    ganancia\n",
       "0             1  gai84tct    40 points  130 points\n",
       "1             2  a2cv2hv4    40 points  120 points\n",
       "2             3  qieuzyq5    40 points  110 points"
      ]
     },
     "execution_count": 6,
     "metadata": {},
     "output_type": "execute_result"
    }
   ],
   "source": [
    "df"
   ]
  },
  {
   "cell_type": "code",
   "execution_count": 164,
   "metadata": {},
   "outputs": [],
   "source": [
    "# df.to_excel(\"lista.xlsx\")"
   ]
  },
  {
   "cell_type": "code",
   "execution_count": null,
   "metadata": {},
   "outputs": [],
   "source": []
  },
  {
   "cell_type": "code",
   "execution_count": null,
   "metadata": {},
   "outputs": [],
   "source": []
  },
  {
   "cell_type": "code",
   "execution_count": null,
   "metadata": {},
   "outputs": [],
   "source": []
  },
  {
   "cell_type": "code",
   "execution_count": null,
   "metadata": {},
   "outputs": [],
   "source": []
  },
  {
   "cell_type": "code",
   "execution_count": null,
   "metadata": {},
   "outputs": [],
   "source": []
  },
  {
   "cell_type": "markdown",
   "metadata": {},
   "source": [
    "labeli = \"\""
   ]
  },
  {
   "cell_type": "code",
   "execution_count": null,
   "metadata": {},
   "outputs": [],
   "source": [
    "urlP = \"https://otree-demo.herokuapp.com/p/\" +str(label_participante)+ \"/public_goods/Results/4\"      \n"
   ]
  },
  {
   "cell_type": "code",
   "execution_count": null,
   "metadata": {},
   "outputs": [],
   "source": [
    "htmlP = requests.get(urlP).content "
   ]
  },
  {
   "cell_type": "code",
   "execution_count": null,
   "metadata": {},
   "outputs": [],
   "source": []
  },
  {
   "cell_type": "code",
   "execution_count": null,
   "metadata": {},
   "outputs": [],
   "source": [
    "# -------------------------------------------------------------------- FIN ---------------------------"
   ]
  },
  {
   "cell_type": "code",
   "execution_count": 120,
   "metadata": {},
   "outputs": [
    {
     "name": "stderr",
     "output_type": "stream",
     "text": [
      "100%|███████████████████████████████████████████████████████████████████| 9000000/9000000 [00:02<00:00, 3902584.91it/s]\n"
     ]
    }
   ],
   "source": []
  },
  {
   "cell_type": "code",
   "execution_count": null,
   "metadata": {},
   "outputs": [],
   "source": []
  },
  {
   "cell_type": "code",
   "execution_count": null,
   "metadata": {},
   "outputs": [],
   "source": []
  },
  {
   "cell_type": "code",
   "execution_count": null,
   "metadata": {},
   "outputs": [],
   "source": []
  },
  {
   "cell_type": "code",
   "execution_count": 27,
   "metadata": {},
   "outputs": [
    {
     "name": "stdout",
     "output_type": "stream",
     "text": [
      "psrx76vc\n"
     ]
    }
   ],
   "source": [
    "label_experimento = input()\n",
    "#   psrx76vc"
   ]
  },
  {
   "cell_type": "code",
   "execution_count": 42,
   "metadata": {
    "scrolled": true
   },
   "outputs": [],
   "source": [
    "urlE = \"https://otree-demo.herokuapp.com/SessionData/\" + str(label_experimento)"
   ]
  },
  {
   "cell_type": "code",
   "execution_count": 56,
   "metadata": {},
   "outputs": [
    {
     "data": {
      "text/plain": [
       "'https://otree-demo.herokuapp.com/SessionData/psrx76vc'"
      ]
     },
     "execution_count": 56,
     "metadata": {},
     "output_type": "execute_result"
    }
   ],
   "source": [
    "urlE"
   ]
  },
  {
   "cell_type": "code",
   "execution_count": null,
   "metadata": {},
   "outputs": [],
   "source": []
  },
  {
   "cell_type": "code",
   "execution_count": null,
   "metadata": {},
   "outputs": [],
   "source": []
  },
  {
   "cell_type": "code",
   "execution_count": 32,
   "metadata": {},
   "outputs": [
    {
     "name": "stdout",
     "output_type": "stream",
     "text": [
      "a2cv2hv4\n"
     ]
    }
   ],
   "source": [
    "label_participante = input()\n",
    "#l2 = a2cv2hv4"
   ]
  },
  {
   "cell_type": "code",
   "execution_count": 33,
   "metadata": {},
   "outputs": [],
   "source": [
    "urlP = \"https://otree-demo.herokuapp.com/p/\" +str(label_participante)+ \"/public_goods/Results/4\"      \n",
    "\n",
    "#https://otree-demo.herokuapp.com/p/......../public_goods/Results/4"
   ]
  },
  {
   "cell_type": "code",
   "execution_count": 34,
   "metadata": {},
   "outputs": [],
   "source": []
  },
  {
   "cell_type": "code",
   "execution_count": 35,
   "metadata": {},
   "outputs": [
    {
     "data": {
      "text/plain": [
       "'https://otree-demo.herokuapp.com/p/a2cv2hv4/public_goods/Results/4'"
      ]
     },
     "execution_count": 35,
     "metadata": {},
     "output_type": "execute_result"
    }
   ],
   "source": [
    "urlP"
   ]
  },
  {
   "cell_type": "code",
   "execution_count": 36,
   "metadata": {},
   "outputs": [],
   "source": [
    "htmlP = requests.get(urlP).content "
   ]
  },
  {
   "cell_type": "code",
   "execution_count": null,
   "metadata": {},
   "outputs": [],
   "source": []
  },
  {
   "cell_type": "code",
   "execution_count": null,
   "metadata": {},
   "outputs": [],
   "source": []
  },
  {
   "cell_type": "code",
   "execution_count": 37,
   "metadata": {},
   "outputs": [],
   "source": [
    "soupP = BeautifulSoup(htmlP,'lxml')"
   ]
  },
  {
   "cell_type": "code",
   "execution_count": 38,
   "metadata": {},
   "outputs": [
    {
     "name": "stdout",
     "output_type": "stream",
     "text": [
      "<!DOCTYPE html>\n",
      "<html>\n",
      "<head>\n",
      "<title></title>\n",
      "<meta content=\"width=device-width, initial-scale=1.0\" name=\"viewport\"/>\n",
      "<link href=\"/static/bootstrap5/css/bootstrap.min.css\" rel=\"stylesheet\"/>\n",
      "<link href=\"/static/otree/css/theme.css\" rel=\"stylesheet\"/>\n",
      "<script src=\"/static/otree/js/jquery-3.2.1.min.js\"></script>\n",
      "</head>\n",
      "<body>\n",
      "<div class=\"otree-body container\">\n",
      "<h2 class=\"otree-title page-header\" id=\"_otree-title\">Results</h2>\n",
      "<form autocomplete=\"off\" class=\"otree-form\" id=\"form\" method=\"post\" role=\"form\">\n",
      "<div class=\"_otree-content\">\n",
      "<table class=\"table-condensed\" style=\"width:500px; margin-top:20px;\">\n",
      "<tr><td>You contributed:</td><td>20 points</td></tr>\n",
      "<tr><td>Other participants contributed:</td><td></td></tr>\n",
      "<tr><td></td><td>10 points</td></tr>\n",
      "<tr><td></td><td>30 points</td></tr>\n",
      "<tr><td>Total contribution:</td><td>60 points</td></tr>\n",
      "<tr><td colspan=\"2\"><hr/></td></tr>\n",
      "<tr><td>Total earnings from the project:</td><td>120 points</td></tr>\n",
      "<tr><td>Your earnings from the project:</td><td>40 points</td></tr>\n",
      "<tr><td colspan=\"2\"><hr/></td></tr>\n",
      "<tr><td>Thus in total you earned:</td><td>120 points</td></tr>\n",
      "</table>\n",
      "<p></p>\n",
      "<div class=\"card bg-light m-3\">\n",
      "<div class=\"card-body\">\n",
      "<h3>\n",
      "        Instructions\n",
      "    </h3>\n",
      "<p>\n",
      "        In this study, you will be in a randomly formed group\n",
      "        of 3 participants. Each participant in\n",
      "        the group is given 100. The group\n",
      "        has the opportunity to undertake a joint project. Each participant in\n",
      "        the group decides how much she or he is going to contribute to\n",
      "        the project. Contribution could be any integer from 0\n",
      "        to 100.\n",
      "    </p>\n",
      "<p>\n",
      "        The earnings from the project are calculated as follows: The\n",
      "        contributions of all 3 participants are\n",
      "        added up, the total contribution\n",
      "        is multiplied by a factor of 2, and the\n",
      "        resulting amount is the total earnings from the project, which is\n",
      "        evenly split among all 3\n",
      "        participants. Your payoff equals your earnings from the project, plus\n",
      "        the amount you did not contribute.\n",
      "    </p>\n",
      "</div>\n",
      "</div>\n",
      "</div>\n",
      "</form>\n",
      "<br/>\n",
      "</div>\n",
      "<script src=\"/static/otree/js/internet-explorer.js\"></script>\n",
      "<script src=\"/static/otree/js/reconnecting-websocket-iife.min.js\"></script>\n",
      "<script src=\"/static/bootstrap5/js/bootstrap.bundle.min.js\"></script>\n",
      "<script src=\"/static/otree/js/common.js\"></script>\n",
      "<script data-is-debug=\"\" data-socket-url=\"/auto_advance?participant_code=a2cv2hv4&amp;page_index=4\" id=\"websocket-redirect\" src=\"/static/otree/js/page-websocket-redirect.js\"></script>\n",
      "</body>\n",
      "</html>\n",
      "\n"
     ]
    }
   ],
   "source": [
    "print(soupP)"
   ]
  },
  {
   "cell_type": "code",
   "execution_count": 48,
   "metadata": {},
   "outputs": [
    {
     "data": {
      "text/plain": [
       "[<td>You contributed:</td>,\n",
       " <td>20 points</td>,\n",
       " <td>Other participants contributed:</td>,\n",
       " <td></td>,\n",
       " <td></td>,\n",
       " <td>10 points</td>,\n",
       " <td></td>,\n",
       " <td>30 points</td>,\n",
       " <td>Total contribution:</td>,\n",
       " <td>60 points</td>,\n",
       " <td colspan=\"2\"><hr/></td>,\n",
       " <td>Total earnings from the project:</td>,\n",
       " <td>120 points</td>,\n",
       " <td>Your earnings from the project:</td>,\n",
       " <td>40 points</td>,\n",
       " <td colspan=\"2\"><hr/></td>,\n",
       " <td>Thus in total you earned:</td>,\n",
       " <td>120 points</td>]"
      ]
     },
     "execution_count": 48,
     "metadata": {},
     "output_type": "execute_result"
    }
   ],
   "source": [
    "textoP = soupP.find_all('td')  \n",
    "\n",
    "textoP"
   ]
  },
  {
   "cell_type": "code",
   "execution_count": 49,
   "metadata": {},
   "outputs": [
    {
     "data": {
      "text/plain": [
       "bs4.element.ResultSet"
      ]
     },
     "execution_count": 49,
     "metadata": {},
     "output_type": "execute_result"
    }
   ],
   "source": [
    "type(textoP)"
   ]
  },
  {
   "cell_type": "code",
   "execution_count": 68,
   "metadata": {},
   "outputs": [
    {
     "name": "stdout",
     "output_type": "stream",
     "text": [
      "You contributed:\n",
      "20 points\n",
      "Other participants contributed:\n",
      "\n",
      "\n",
      "10 points\n",
      "\n",
      "30 points\n",
      "Total contribution:\n",
      "60 points\n",
      "\n",
      "Total earnings from the project:\n",
      "120 points\n",
      "Your earnings from the project:\n",
      "40 points\n",
      "\n",
      "Thus in total you earned:\n",
      "120 points\n"
     ]
    }
   ],
   "source": [
    "L = []\n",
    "for i in textoP:\n",
    "    #L.append(i)   guarda con etiquetas HTML\n",
    "    L.append(i.text)    #guarda data limpia\n",
    "    print(i.text)"
   ]
  },
  {
   "cell_type": "code",
   "execution_count": 69,
   "metadata": {},
   "outputs": [
    {
     "data": {
      "text/plain": [
       "['You contributed:',\n",
       " '20 points',\n",
       " 'Other participants contributed:',\n",
       " '',\n",
       " '',\n",
       " '10 points',\n",
       " '',\n",
       " '30 points',\n",
       " 'Total contribution:',\n",
       " '60 points',\n",
       " '',\n",
       " 'Total earnings from the project:',\n",
       " '120 points',\n",
       " 'Your earnings from the project:',\n",
       " '40 points',\n",
       " '',\n",
       " 'Thus in total you earned:',\n",
       " '120 points']"
      ]
     },
     "execution_count": 69,
     "metadata": {},
     "output_type": "execute_result"
    }
   ],
   "source": [
    "L"
   ]
  },
  {
   "cell_type": "code",
   "execution_count": 85,
   "metadata": {},
   "outputs": [
    {
     "data": {
      "text/plain": [
       "'20 points'"
      ]
     },
     "execution_count": 85,
     "metadata": {},
     "output_type": "execute_result"
    }
   ],
   "source": [
    "L[1]"
   ]
  },
  {
   "cell_type": "code",
   "execution_count": 92,
   "metadata": {},
   "outputs": [
    {
     "data": {
      "text/plain": [
       "'120 points'"
      ]
     },
     "execution_count": 92,
     "metadata": {},
     "output_type": "execute_result"
    }
   ],
   "source": [
    "L[17]"
   ]
  },
  {
   "cell_type": "code",
   "execution_count": null,
   "metadata": {},
   "outputs": [],
   "source": []
  },
  {
   "cell_type": "code",
   "execution_count": null,
   "metadata": {},
   "outputs": [],
   "source": []
  },
  {
   "cell_type": "code",
   "execution_count": null,
   "metadata": {},
   "outputs": [],
   "source": []
  },
  {
   "cell_type": "code",
   "execution_count": null,
   "metadata": {},
   "outputs": [],
   "source": []
  },
  {
   "cell_type": "code",
   "execution_count": null,
   "metadata": {},
   "outputs": [],
   "source": []
  },
  {
   "cell_type": "code",
   "execution_count": 70,
   "metadata": {},
   "outputs": [
    {
     "data": {
      "text/plain": [
       "b'\\n\\n<!DOCTYPE html>\\n<html>\\n<head>\\n    <title></title>\\n    \\n  \\n    \\n        <meta name=\"viewport\" content=\"width=device-width, initial-scale=1.0\">\\n        <link rel=\"stylesheet\" href=\"/static/bootstrap5/css/bootstrap.min.css\">\\n        <link rel=\"stylesheet\" href=\"/static/otree/css/theme.css\">\\n        \\n        <script src=\"/static/otree/js/jquery-3.2.1.min.js\"></script>\\n    \\n    <link href=\"/static/otree/css/table.css\" rel=\"stylesheet\" />\\n\\n    <style>\\n        #admin-page-container {\\n          max-width:970px;\\n        }\\n\\n    </style>\\n\\n\\n  <style>\\n    #bottom-toolbar {\\n      position: fixed;\\n      bottom: 0;\\n      left: 0;\\n      background-color: white;\\n      padding-bottom: 5px;\\n      padding-left: 5px;\\n      width: 100%;\\n    }\\n\\n    .field-header {\\n      position: sticky;\\n      top: 0;\\n      background-color: white;\\n    }\\n\\n    .id-in-session {\\n      position: sticky;\\n      left: 0;\\n      background-color: white;\\n    }\\n\\n    #cur-app {\\n      font-weight: bold;\\n      width: 30ch;\\n      white-space: nowrap;\\n      overflow: hidden;\\n      text-overflow: ellipsis\"\\n    }\\n\\n  </style>\\n\\n    \\n    \\n    \\n    \\n</head>\\n<body>\\n\\n    <nav class=\"navbar navbar-expand-sm navbar-dark bg-dark\" id=\"top_menu\">\\n    <div class=\"container-fluid\">\\n        <a class=\"navbar-brand\" href=\"/\">oTree</a>\\n\\n        <button class=\"navbar-toggler\" type=\"button\" data-bs-toggle=\"collapse\" data-target=\"#navbarSupportedContent\">\\n            <span class=\"navbar-toggler-icon\"></span>\\n        </button>\\n\\n        <div class=\"navbar-collapse collapse\" id=\"navbarSupportedContent\">\\n            <ul class=\"navbar-nav\">\\n                <li class=\"nav-item\"><a class=\"nav-link\" href=\"/demo\">Demo</a></li>\\n                <li class=\"nav-item\"><a class=\"nav-link\" href=\"/sessions\">Sessions</a></li>\\n                <li class=\"nav-item\"><a class=\"nav-link\" href=\"/rooms\">Rooms</a></li>\\n                <li class=\"nav-item\"><a class=\"nav-link\" href=\"/export\">Data</a></li>\\n                <li class=\"nav-item\"><a class=\"nav-link\" href=\"/server_check\">Server Check</a></li>\\n                \\n            </ul>\\n        </div>\\n      </div>\\n    </nav>\\n\\n  <div class=\"container\" id=\"admin-page-container\">\\n    <div class=\"page-header\">\\n      <h2 id=\"_otree-title\">\\n  Public Goods: session \\'psrx76vc\\' (demo) \\n</h2>\\n    </div>\\n    \\n  <ul class=\"nav nav-tabs\">\\n    <li role=\"presentation\">\\n      \\n        <a class=\"nav-link\" href=\"/demo/public_goods\">\\n          <img src=\\'/static/glyphicons/refresh.png\\'> New\\n        </a>\\n      \\n    </li>\\n    <li class=\"nav-item\">\\n      <a class=\"nav-link SessionStartLinks\" href=\"/SessionStartLinks/psrx76vc\"><img\\n          src=\\'/static/glyphicons/link.png\\'> Links</a>\\n    </li>\\n    <li class=\"nav-item\">\\n      <a class=\"nav-link SessionMonitor\" href=\"/SessionMonitor/psrx76vc\"><img\\n          src=\\'/static/glyphicons/eye-open.png\\'> Monitor</a>\\n    </li>\\n    <li class=\"nav-item\">\\n      <a class=\"nav-link SessionData\" href=\"/SessionData/psrx76vc\"><img\\n          src=\\'/static/glyphicons/list-alt.png\\'> Data</a>\\n    </li>\\n    \\n      <li class=\"nav-item\">\\n      <a class=\"nav-link SessionPayments\" href=\"/SessionPayments/psrx76vc\">\\n    \\n    <img src=\\'/static/glyphicons/usd.png\\'> Payments\\n    </a>\\n    </li>\\n    \\n      <li class=\"nav-item\">\\n      <a class=\"nav-link AdminReport\"\\n         href=\"/AdminReport/psrx76vc\"><img src=\\'/static/glyphicons/stats.png\\'> Report</a>\\n    \\n    \\n    <li class=\"nav-item\">\\n      <a class=\"nav-link SessionDescription\"\\n         href=\"/SessionDescription/psrx76vc\"><img src=\\'/static/glyphicons/pushpin.png\\'>\\n        Description</a>\\n    </li>\\n  </ul>\\n\\n  <style>\\n    .SessionData {\\n        border-color: #dee2e6;\\n    }\\n  </style>\\n\\n\\n    <div>\\n      \\n    </div>\\n    <br/>\\n  </div>\\n  \\n  \\n\\n  \\n    <table class=\"table results-table table-hover\">\\n      <thead style=\"background-color: white; z-index: 1000\">\\n      <tr>\\n        <th></th>\\n        \\n          <th class=\"field-header\">group</th>\\n        \\n          <th class=\"field-header\">id_in_group</th>\\n        \\n          <th class=\"field-header\">role</th>\\n        \\n          <th class=\"field-header\">payoff</th>\\n        \\n          <th class=\"field-header\">contribution</th>\\n        \\n        \\n          <th class=\"field-header\">group.<br>id_in_subsession</th>\\n        \\n          <th class=\"field-header\">group.<br>total_contribution</th>\\n        \\n          <th class=\"field-header\">group.<br>individual_share</th>\\n        \\n        \\n\\n      </tr>\\n      </thead>\\n      <tbody></tbody>\\n    </table>\\n  \\n  \\n  <br><br>\\n  <br><br>\\n  <div id=\"bottom-toolbar\">\\n    <table style=\"white-space:nowrap; width: 100%\">\\n      <tr>\\n        <td>\\n          <button class=\"btn btn-secondary btn-lg\" id=\"app-prev\">\\xe2\\xae\\x9c</button>\\n          <button class=\"btn btn-secondary btn-lg\" id=\"app-next\">\\xe2\\xae\\x9e</button>\\n        </td>\\n        <td>\\n          <button class=\"btn btn-secondary btn-lg\" id=\"round-prev\">\\xe2\\xae\\x9c</button>\\n          <button class=\"btn btn-secondary btn-lg\" id=\"round-next\">\\xe2\\xae\\x9e</button>\\n        </td>\\n        <td>\\n          <button class=\"btn btn-secondary btn-lg\" id=\"btn-refresh\">\\xe2\\x86\\xbb</button>\\n        </td>\\n        <td style=\"width: 12ch\">\\n          <a href=\"/ExportSessionWide/psrx76vc\">Plain</a> |\\n          <a href=\"/ExportSessionWide/psrx76vc?excel=1\">Excel</a>\\n        </td>\\n      </tr>\\n      <tr>\\n        <td style=\"width: 30ch\">\\n          <div id=\"cur-app\"></div>\\n        </td>\\n        <td style=\"width: 10ch; font-weight: bold\">Round <span id=\"cur-round\"></span></td>\\n        <td><small><span id=\"msg-refreshed\" style=\"display: none; color: darkgreen\"></span></small></td>\\n        <td></td>\\n      </tr>\\n    </table>\\n  </div>\\n  <div id=\"server_error\" class=\"alert alert-danger\" style=\"display: none;\">\\n    <a href=\"#\" class=\"close\" data-bs-dismiss=\"alert\">&times;</a>\\n    Failed to connect to server\\n  </div>\\n\\n  \\n<div id=\\'websocket-server-error\\' class=\"top-left-fixed-alert\" style=\"visibility: hidden\"></div>\\n\\n\\n\\n  \\n\\n  <script src=\"/static/otree/js/internet-explorer.js\"></script>\\n  <script src=\"/static/otree/js/reconnecting-websocket-iife.min.js\"></script>\\n    \\n    <script src=\"/static/bootstrap5/js/bootstrap.bundle.min.js\"></script>\\n    \\n    <script src=\"/static/otree/js/common.js\"></script>\\n\\n<script>\\n$(function () {\\n    $(\\'[data-bs-toggle=\"popover\"]\\').popover()\\n\\n    // if top menu link is clicked inside iframe\\n    // we exit full mode\\n    $(\"#top_menu a\").click(function() {\\n        if ( window.location !== window.parent.location ) {\\n                window.parent.location.href = $(this).attr(\"href\");\\n        }\\n    });\\n});\\n\\n</script>\\n\\n<script src=\"/static/otree/js/jquery.color-2.1.2.min.js\"></script>\\n<script src=\"/static/otree/js/jquery.timeago.js\"></script>\\n<script src=\"/static/otree/js/jquery.timeago.en-short.js\"></script>\\n<script src=\"/static/otree/js/table-utils.js\"></script>\\n\\n\\n  <script>\\n      let getElementById = (id) => document.getElementById(id);\\n      let visibleTableIndex = 0;\\n      let old_json = null;\\n      let curAppSpan = getElementById(\\'cur-app\\');\\n      let curRoundSpan = getElementById(\\'cur-round\\');\\n      let tables = document.getElementsByClassName(\\'results-table\\');\\n      const round_numbers_by_subsession = [1];\\n      const app_names_by_subsession = [\\'public_goods\\'];\\n      const FIELD_HEADERS = {\"public_goods\": [\"group\", \"id_in_group\", \"role\", \"payoff\", \"contribution\", \"id_in_subsession\", \"total_contribution\", \"individual_share\"]};\\n      $(document).ready(function () {\\n          $(\\'#btn-refresh\\').click(function () {\\n              ajax_json_results(true);\\n          })\\n          ajax_json_results(false);\\n      });\\n\\n      function updateTableVisibility() {\\n          for (let table of tables) {\\n              table.style.display = \\'none\\';\\n          }\\n          tables[visibleTableIndex].style.display = \\'block\\';\\n          let curApp = app_names_by_subsession[visibleTableIndex];\\n          let curRound = round_numbers_by_subsession[visibleTableIndex];\\n          curAppSpan.innerText = curApp;\\n          curRoundSpan.innerText = curRound;\\n          getElementById(\\'app-prev\\').disabled = curApp === app_names_by_subsession[0];\\n          getElementById(\\'app-next\\').disabled = curApp === app_names_by_subsession[app_names_by_subsession.length - 1];\\n          getElementById(\\'round-prev\\').disabled = visibleTableIndex === 0;\\n          getElementById(\\'round-next\\').disabled = visibleTableIndex === tables.length - 1;\\n\\n      }\\n\\n      updateTableVisibility();\\n\\n      getElementById(\\'app-prev\\').addEventListener(\\'click\\', function () {\\n          let curApp = app_names_by_subsession[visibleTableIndex];\\n          for (let i = visibleTableIndex - 1; i >= 0; i--) {\\n              if (app_names_by_subsession[i] !== curApp && round_numbers_by_subsession[i] === 1) {\\n                  visibleTableIndex = i;\\n                  break;\\n              }\\n          }\\n          updateTableVisibility();\\n      })\\n\\n      getElementById(\\'app-next\\').addEventListener(\\'click\\', function () {\\n          let curApp = app_names_by_subsession[visibleTableIndex];\\n          for (let i = visibleTableIndex + 1; i < app_names_by_subsession.length; i++) {\\n              if (app_names_by_subsession[i] !== curApp) {\\n                  visibleTableIndex = i;\\n                  break;\\n              }\\n          }\\n          updateTableVisibility();\\n      })\\n\\n      getElementById(\\'round-prev\\').addEventListener(\\'click\\', function () {\\n          if (visibleTableIndex > 0) visibleTableIndex--;\\n          updateTableVisibility();\\n      })\\n\\n      getElementById(\\'round-next\\').addEventListener(\\'click\\', function () {\\n          if (visibleTableIndex < tables.length - 1) visibleTableIndex++;\\n          updateTableVisibility();\\n      })\\n\\n\\n      function ajax_json_results(isRefresh) {\\n          let $msgRefreshed = $(\\'#msg-refreshed\\');\\n\\n          $.ajax({\\n              url: \\'/session_data/psrx76vc\\',\\n              type: \\'GET\\',\\n              contentType: \"application/json\",\\n              error: function (jqXHR, textStatus) {\\n                  $(\"div#server_error\").show();\\n              },\\n              success: function (new_json) {\\n                  $(\"div#server_error\").hide();\\n                  let changeDescriptions = [];\\n                  for (let i = 0; i < new_json.length; i++) {\\n                      let table = tables[i];\\n                      let appName = app_names_by_subsession[i];\\n                      let headers = FIELD_HEADERS[appName];\\n                      let data = new_json[i];\\n                      if (old_json === null) {\\n                          populateTableBody(table.querySelector(\\'tbody\\'), data);\\n                      } else {\\n                          changeDescriptions = changeDescriptions.concat(updateDataTable($(table), data, old_json[i], headers));\\n                      }\\n                  }\\n                  old_json = new_json;\\n                  if (!isRefresh) return;\\n                  let numChanges = changeDescriptions.length;\\n                  let msg;\\n                  if (numChanges === 0) {\\n                      msg = \\'No updates\\';\\n                  } else {\\n                      msg = `Updated ${numChanges} row(s): ${changeDescriptions.join(\\'; \\')}`;\\n                  }\\n                  // keep it short to avoid linebreak/resizing issues\\n                  if (msg.length > 100) {\\n                      msg = truncateStringEllipsis(msg, 100);\\n                  }\\n                  $msgRefreshed.text(msg);\\n                  // interrupt any ongoing fadeout\\n                  $msgRefreshed.stop(true, true);\\n                  $msgRefreshed.show();\\n                  $msgRefreshed.fadeOut(30000);\\n              }\\n          });\\n      }\\n  </script>\\n\\n\\n\\n\\n\\n\\n</body>\\n</html>\\n\\n\\n\\n\\n\\n\\n\\n\\n\\n\\n\\n\\n\\n\\n\\n\\n\\n\\n\\n\\n\\n'"
      ]
     },
     "execution_count": 70,
     "metadata": {},
     "output_type": "execute_result"
    }
   ],
   "source": [
    "htmlE = requests.get(urlE).content \n",
    "htmlE"
   ]
  },
  {
   "cell_type": "code",
   "execution_count": 71,
   "metadata": {},
   "outputs": [],
   "source": [
    "soupE = BeautifulSoup(htmlE,'lxml')"
   ]
  },
  {
   "cell_type": "code",
   "execution_count": 72,
   "metadata": {},
   "outputs": [
    {
     "data": {
      "text/plain": [
       "[<table class=\"table results-table table-hover\">\n",
       " <thead style=\"background-color: white; z-index: 1000\">\n",
       " <tr>\n",
       " <th></th>\n",
       " <th class=\"field-header\">group</th>\n",
       " <th class=\"field-header\">id_in_group</th>\n",
       " <th class=\"field-header\">role</th>\n",
       " <th class=\"field-header\">payoff</th>\n",
       " <th class=\"field-header\">contribution</th>\n",
       " <th class=\"field-header\">group.<br/>id_in_subsession</th>\n",
       " <th class=\"field-header\">group.<br/>total_contribution</th>\n",
       " <th class=\"field-header\">group.<br/>individual_share</th>\n",
       " </tr>\n",
       " </thead>\n",
       " <tbody></tbody>\n",
       " </table>,\n",
       " <table style=\"white-space:nowrap; width: 100%\">\n",
       " <tr>\n",
       " <td>\n",
       " <button class=\"btn btn-secondary btn-lg\" id=\"app-prev\">⮜</button>\n",
       " <button class=\"btn btn-secondary btn-lg\" id=\"app-next\">⮞</button>\n",
       " </td>\n",
       " <td>\n",
       " <button class=\"btn btn-secondary btn-lg\" id=\"round-prev\">⮜</button>\n",
       " <button class=\"btn btn-secondary btn-lg\" id=\"round-next\">⮞</button>\n",
       " </td>\n",
       " <td>\n",
       " <button class=\"btn btn-secondary btn-lg\" id=\"btn-refresh\">↻</button>\n",
       " </td>\n",
       " <td style=\"width: 12ch\">\n",
       " <a href=\"/ExportSessionWide/psrx76vc\">Plain</a> |\n",
       "           <a href=\"/ExportSessionWide/psrx76vc?excel=1\">Excel</a>\n",
       " </td>\n",
       " </tr>\n",
       " <tr>\n",
       " <td style=\"width: 30ch\">\n",
       " <div id=\"cur-app\"></div>\n",
       " </td>\n",
       " <td style=\"width: 10ch; font-weight: bold\">Round <span id=\"cur-round\"></span></td>\n",
       " <td><small><span id=\"msg-refreshed\" style=\"display: none; color: darkgreen\"></span></small></td>\n",
       " <td></td>\n",
       " </tr>\n",
       " </table>]"
      ]
     },
     "execution_count": 72,
     "metadata": {},
     "output_type": "execute_result"
    }
   ],
   "source": [
    "textoE = soupE.find_all('table')\n",
    "textoE"
   ]
  },
  {
   "cell_type": "code",
   "execution_count": 74,
   "metadata": {},
   "outputs": [],
   "source": [
    "N = []\n",
    "for i in textoE:\n",
    "    N.append(i)   #guarda con etiquetas HTML\n",
    "    #N.append(i.text)    #guarda data limpia\n",
    "    #print(i.text)"
   ]
  },
  {
   "cell_type": "code",
   "execution_count": 75,
   "metadata": {},
   "outputs": [
    {
     "data": {
      "text/plain": [
       "[<table class=\"table results-table table-hover\">\n",
       " <thead style=\"background-color: white; z-index: 1000\">\n",
       " <tr>\n",
       " <th></th>\n",
       " <th class=\"field-header\">group</th>\n",
       " <th class=\"field-header\">id_in_group</th>\n",
       " <th class=\"field-header\">role</th>\n",
       " <th class=\"field-header\">payoff</th>\n",
       " <th class=\"field-header\">contribution</th>\n",
       " <th class=\"field-header\">group.<br/>id_in_subsession</th>\n",
       " <th class=\"field-header\">group.<br/>total_contribution</th>\n",
       " <th class=\"field-header\">group.<br/>individual_share</th>\n",
       " </tr>\n",
       " </thead>\n",
       " <tbody></tbody>\n",
       " </table>,\n",
       " <table style=\"white-space:nowrap; width: 100%\">\n",
       " <tr>\n",
       " <td>\n",
       " <button class=\"btn btn-secondary btn-lg\" id=\"app-prev\">⮜</button>\n",
       " <button class=\"btn btn-secondary btn-lg\" id=\"app-next\">⮞</button>\n",
       " </td>\n",
       " <td>\n",
       " <button class=\"btn btn-secondary btn-lg\" id=\"round-prev\">⮜</button>\n",
       " <button class=\"btn btn-secondary btn-lg\" id=\"round-next\">⮞</button>\n",
       " </td>\n",
       " <td>\n",
       " <button class=\"btn btn-secondary btn-lg\" id=\"btn-refresh\">↻</button>\n",
       " </td>\n",
       " <td style=\"width: 12ch\">\n",
       " <a href=\"/ExportSessionWide/psrx76vc\">Plain</a> |\n",
       "           <a href=\"/ExportSessionWide/psrx76vc?excel=1\">Excel</a>\n",
       " </td>\n",
       " </tr>\n",
       " <tr>\n",
       " <td style=\"width: 30ch\">\n",
       " <div id=\"cur-app\"></div>\n",
       " </td>\n",
       " <td style=\"width: 10ch; font-weight: bold\">Round <span id=\"cur-round\"></span></td>\n",
       " <td><small><span id=\"msg-refreshed\" style=\"display: none; color: darkgreen\"></span></small></td>\n",
       " <td></td>\n",
       " </tr>\n",
       " </table>]"
      ]
     },
     "execution_count": 75,
     "metadata": {},
     "output_type": "execute_result"
    }
   ],
   "source": [
    "N"
   ]
  },
  {
   "cell_type": "code",
   "execution_count": null,
   "metadata": {},
   "outputs": [],
   "source": []
  },
  {
   "cell_type": "code",
   "execution_count": null,
   "metadata": {},
   "outputs": [],
   "source": []
  },
  {
   "cell_type": "code",
   "execution_count": null,
   "metadata": {},
   "outputs": [],
   "source": []
  }
 ],
 "metadata": {
  "kernelspec": {
   "display_name": "Python 3",
   "language": "python",
   "name": "python3"
  },
  "language_info": {
   "codemirror_mode": {
    "name": "ipython",
    "version": 3
   },
   "file_extension": ".py",
   "mimetype": "text/x-python",
   "name": "python",
   "nbconvert_exporter": "python",
   "pygments_lexer": "ipython3",
   "version": "3.8.5"
  }
 },
 "nbformat": 4,
 "nbformat_minor": 4
}
