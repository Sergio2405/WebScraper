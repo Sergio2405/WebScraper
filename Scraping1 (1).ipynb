{
 "cells": [
  {
   "cell_type": "markdown",
   "metadata": {},
   "source": [
    "## Scraping - BS"
   ]
  },
  {
   "cell_type": "markdown",
   "metadata": {},
   "source": [
    "Web Oficial:\n",
    "\n",
    "https://www.crummy.com/software/BeautifulSoup/bs4/doc/"
   ]
  },
  {
   "cell_type": "markdown",
   "metadata": {},
   "source": [
    "**!pip install beautifulsoup4**"
   ]
  },
  {
   "cell_type": "code",
   "execution_count": 3,
   "metadata": {},
   "outputs": [],
   "source": [
    "from bs4 import BeautifulSoup\n",
    "\n",
    "import requests"
   ]
  },
  {
   "cell_type": "code",
   "execution_count": 4,
   "metadata": {},
   "outputs": [],
   "source": [
    "#url = 'https://es.wikipedia.org/wiki/Per%C3%BA'  #pagina a la que scapeamos\n",
    "url = 'https://otree-demo.econ.tools/SessionPayments/0b20yl7p/'\n",
    "#si tengo una lista de muchas pagweb hago unn FOR"
   ]
  },
  {
   "cell_type": "code",
   "execution_count": 5,
   "metadata": {},
   "outputs": [],
   "source": [
    "html = requests.get(url).content  #content    retorna el HTML de la pag"
   ]
  },
  {
   "cell_type": "code",
   "execution_count": 6,
   "metadata": {},
   "outputs": [
    {
     "data": {
      "text/plain": [
       "b'\\n\\n<!DOCTYPE html>\\n<html>\\n<head>\\n    <title>\\nBertrand Competition: session \\'0b20yl7p\\' (demo) \\n</title>\\n    \\n    \\n        <meta name=\"viewport\" content=\"width=device-width, initial-scale=1.0\">\\n        <link rel=\"stylesheet\" href=\"/static/bootstrap4/css/bootstrap.min.css\">\\n        <link rel=\"stylesheet\" href=\"/static/bootstrap4/css/bootstrap-reboot.min.css\">\\n        <link rel=\"stylesheet\" href=\"/static/otree/css/theme.css\">\\n        \\n        <script src=\"/static/otree/js/jquery-3.2.1.min.js\"></script>\\n    \\n    <link href=\"/static/otree/css/table.css\" rel=\"stylesheet\" />\\n\\n    <style>\\n        body {\\n            padding-top: 50px;\\n        }\\n    </style>\\n\\n\\n    \\n    \\n    \\n    \\n</head>\\n<body>\\n\\n    <nav class=\"navbar navbar-expand-lg navbar-dark bg-dark fixed-top\" id=\"top_menu\">\\n        <a class=\"navbar-brand\" href=\"/\">oTree</a>\\n\\n        <button class=\"navbar-toggler\" type=\"button\" data-toggle=\"collapse\" data-target=\"#navbarSupportedContent\">\\n            <span class=\"navbar-toggler-icon\"></span>\\n        </button>\\n\\n        <div class=\"navbar-collapse collapse\" id=\"navbarSupportedContent\">\\n            <ul class=\"navbar-nav\">\\n                <li class=\"nav-item\"><a class=\"nav-link\" href=\"/demo/\">Demo</a></li>\\n                <li class=\"nav-item\"><a class=\"nav-link\" href=\"/sessions/\">Sessions</a></li>\\n                <li class=\"nav-item\"><a class=\"nav-link\" href=\"/rooms/\">Rooms</a></li>\\n                <li class=\"nav-item\"><a class=\"nav-link\" href=\"/export/\">Data</a></li>\\n                <li class=\"nav-item\"><a class=\"nav-link\" href=\"/server_check/\">Server Check</a></li>\\n                <li class=\"nav-item _otree-updates\"></li>\\n\\n                \\n            </ul>\\n        </div>\\n    </nav>\\n\\n    <div class=\"container\" style=\\'max-width:970px\\'>\\n    <div class=\"page-header\" style=\"padding-top: 40px\">\\n        <h2>\\nBertrand Competition: session <code>0b20yl7p</code> (demo) \\n</h2>\\n    </div>\\n    \\n<ul class=\"nav nav-tabs justify-content-center\">\\n    <li role=\"presentation\" class=\"nav-item\">\\n        <a class=\"nav-link \" href=\"/SessionDescription/0b20yl7p/\"><img src=\\'/static/glyphicons/pushpin.png\\'> Description</a>\\n    </li>\\n    <li role=\"presentation\" class=\"nav-item\">\\n        <a class=\"nav-link \" href=\"/SessionStartLinks/0b20yl7p/\"><img src=\\'/static/glyphicons/link.png\\'> Links</a>\\n    </li>\\n    \\n    <li role=\"presentation\" class=\"nav-item\">\\n        <a class=\"nav-link \" href=\"/SessionMonitor/0b20yl7p/\"><img src=\\'/static/glyphicons/eye-open.png\\'> Monitor</a>\\n    </li>\\n    <li role=\"presentation\" class=\"nav-item\">\\n        <a class=\"nav-link \" href=\"/SessionData/0b20yl7p/\"><img src=\\'/static/glyphicons/list-alt.png\\'> Data</a>\\n    </li>\\n    \\n    <li role=\"presentation\" class=\"nav-item\">\\n        <a class=\"nav-link active\" href=\"/SessionPayments/0b20yl7p/\">\\n    \\n            <img src=\\'/static/glyphicons/usd.png\\'> Payments\\n        </a>\\n    </li>\\n    \\n    \\n    \\n    <li role=\"presentation\">\\n        <a class=\"nav-link\" href=\"/demo/bertrand/\" data-toggle=\"popover\" data-trigger=\"hover\" data-placement=\"top\" data-content=\"Recreate session from scratch. You can also copy this link and share with others.\">\\n            <img src=\\'/static/glyphicons/refresh.png\\'> New\\n        </a>\\n    </li>\\n    \\n\\n</ul>\\n\\n    <div>\\n        \\n\\n<div class=\"container\" style=\\'max-width:970px\\'>\\n    <p>\\n    Generated: <strong>May 13, 2021, 1:19 a.m.</strong>\\n    </p>\\n\\n\\n    <h3>Session</h3>\\n    <table class=\"table\">\\n        <tr>\\n            <th>Session config</th>\\n            <td>bertrand</td>\\n        </tr>\\n\\n        <tr>\\n            <th>Session code</th>\\n            <td style=\"font-family: \\'Courier New\\'\">0b20yl7p</td>\\n        </tr>\\n\\n        <tr>\\n            <th>Experimenter name</th>\\n            <td></td>\\n        </tr>\\n\\n    </table>\\n\\n    <h3>Participants</h3>\\n\\n\\n    <table class=\"table table-striped\">\\n        <tr>\\n            <th>Participant code</th>\\n            <th>Participant label</th>\\n            <th>Progress</th>\\n            <th>Participation fee</th>\\n            <th>Payoff (bonus)</th>\\n            <th>Total</th>\\n            <th>Note</th>\\n        </tr>\\n\\n        \\n        <tr>\\n            <td style=\"font-family: \\'Courier New\\'\">061dw4yt</td>\\n            <td></td>\\n            <td>1/5 pages</td>\\n            <td>$0.00</td>\\n            <td>$0.00</td>\\n            <td>$0.00</td>\\n            <td></td>\\n        </tr>\\n        \\n        <tr>\\n            <td style=\"font-family: \\'Courier New\\'\">pgvvc37h</td>\\n            <td></td>\\n            <td>1/5 pages</td>\\n            <td>$0.00</td>\\n            <td>$0.00</td>\\n            <td>$0.00</td>\\n            <td></td>\\n        </tr>\\n        \\n\\n    </table>\\n\\n    <h3>Summary</h3>\\n    <table class=\"table\">\\n        <tr>\\n            <th>Total payments</th>\\n            <td>$0.00</td>\\n        </tr>\\n        <tr>\\n            <th>Mean payment</th>\\n            <td>$0.00</td>\\n        </tr>\\n    </table>\\n\\n\\n    <h3>Notes/Signature</h3>\\n    <div class=\"card bg-light\">\\n        <br/>\\n        <br/>\\n        <br/>\\n    </div>\\n</div>\\n\\n\\n    </div>\\n    <br/>\\n</div>\\n\\n\\n\\n\\n    <script src=\"/static/otree/js/reconnecting-websocket.js\" type=\"text/javascript\"></script>\\n    \\n    <script src=\"/static/bootstrap4/js/bootstrap.bundle.min.js\"></script>\\n    \\n    <script src=\"/static/otree/js/init_widgets.js\"></script>\\n\\n<script>\\n$(function () {\\n    $(\\'[data-toggle=\"popover\"]\\').popover()\\n});\\n$(function(){\\n    // if top menu link is clicked inside iframe\\n    // we exit full mode\\n    $(\"#top_menu a\").click(function() {\\n        if ( window.location !== window.parent.location ) {\\n                window.parent.location.href = $(this).attr(\"href\");\\n        }\\n    });\\n});\\n$(function () {\\n    $.ajax({\\n        url: \\'/version_cached/\\',\\n        type: \\'GET\\',\\n        success: function(data) {\\n            if (!data.pypi_connection_error) {\\n                if (data.update_needed) {\\n                    $(\\'._otree-updates\\').html(\\n                        \\'<a class=\"nav-link\" href=\"/server_check/\"><small>Update available</small></a>\\')\\n                }\\n            }\\n        }\\n    });\\n});\\n\\n</script>\\n\\n<script src=\"/static/otree/js/jquery.color-2.1.2.min.js\"></script>\\n<script src=\"/static/otree/js/jquery.timeago.js\"></script>\\n<script src=\"/static/otree/js/jsondiffpatch.min.js\"></script>\\n<script src=\"/static/otree/js/table-utils3.js\"></script>\\n\\n\\n\\n\\n\\n\\n</body>\\n</html>\\n'"
      ]
     },
     "execution_count": 6,
     "metadata": {},
     "output_type": "execute_result"
    }
   ],
   "source": [
    "html"
   ]
  },
  {
   "cell_type": "code",
   "execution_count": null,
   "metadata": {},
   "outputs": [],
   "source": [
    "# con ExpReg se puede etarer los links    pero se puede usar SOUP"
   ]
  },
  {
   "cell_type": "code",
   "execution_count": 7,
   "metadata": {},
   "outputs": [
    {
     "data": {
      "text/plain": [
       "bytes"
      ]
     },
     "execution_count": 7,
     "metadata": {},
     "output_type": "execute_result"
    }
   ],
   "source": [
    "type(html)                  "
   ]
  },
  {
   "cell_type": "code",
   "execution_count": 8,
   "metadata": {},
   "outputs": [],
   "source": [
    "soup = BeautifulSoup(html,'lxml')  # 'lxml'  es uno de los tipo de PARSE\n"
   ]
  },
  {
   "cell_type": "code",
   "execution_count": 9,
   "metadata": {},
   "outputs": [
    {
     "data": {
      "text/plain": [
       "bs4.BeautifulSoup"
      ]
     },
     "execution_count": 9,
     "metadata": {},
     "output_type": "execute_result"
    }
   ],
   "source": [
    "type(soup)\n",
    "#soup es un objeto"
   ]
  },
  {
   "cell_type": "code",
   "execution_count": 10,
   "metadata": {},
   "outputs": [
    {
     "name": "stdout",
     "output_type": "stream",
     "text": [
      "<!DOCTYPE html>\n",
      "<html>\n",
      "<head>\n",
      "<title>\n",
      "Bertrand Competition: session '0b20yl7p' (demo) \n",
      "</title>\n",
      "<meta content=\"width=device-width, initial-scale=1.0\" name=\"viewport\"/>\n",
      "<link href=\"/static/bootstrap4/css/bootstrap.min.css\" rel=\"stylesheet\"/>\n",
      "<link href=\"/static/bootstrap4/css/bootstrap-reboot.min.css\" rel=\"stylesheet\"/>\n",
      "<link href=\"/static/otree/css/theme.css\" rel=\"stylesheet\"/>\n",
      "<script src=\"/static/otree/js/jquery-3.2.1.min.js\"></script>\n",
      "<link href=\"/static/otree/css/table.css\" rel=\"stylesheet\"/>\n",
      "<style>\n",
      "        body {\n",
      "            padding-top: 50px;\n",
      "        }\n",
      "    </style>\n",
      "</head>\n",
      "<body>\n",
      "<nav class=\"navbar navbar-expand-lg navbar-dark bg-dark fixed-top\" id=\"top_menu\">\n",
      "<a class=\"navbar-brand\" href=\"/\">oTree</a>\n",
      "<button class=\"navbar-toggler\" data-target=\"#navbarSupportedContent\" data-toggle=\"collapse\" type=\"button\">\n",
      "<span class=\"navbar-toggler-icon\"></span>\n",
      "</button>\n",
      "<div class=\"navbar-collapse collapse\" id=\"navbarSupportedContent\">\n",
      "<ul class=\"navbar-nav\">\n",
      "<li class=\"nav-item\"><a class=\"nav-link\" href=\"/demo/\">Demo</a></li>\n",
      "<li class=\"nav-item\"><a class=\"nav-link\" href=\"/sessions/\">Sessions</a></li>\n",
      "<li class=\"nav-item\"><a class=\"nav-link\" href=\"/rooms/\">Rooms</a></li>\n",
      "<li class=\"nav-item\"><a class=\"nav-link\" href=\"/export/\">Data</a></li>\n",
      "<li class=\"nav-item\"><a class=\"nav-link\" href=\"/server_check/\">Server Check</a></li>\n",
      "<li class=\"nav-item _otree-updates\"></li>\n",
      "</ul>\n",
      "</div>\n",
      "</nav>\n",
      "<div class=\"container\" style=\"max-width:970px\">\n",
      "<div class=\"page-header\" style=\"padding-top: 40px\">\n",
      "<h2>\n",
      "Bertrand Competition: session <code>0b20yl7p</code> (demo) \n",
      "</h2>\n",
      "</div>\n",
      "<ul class=\"nav nav-tabs justify-content-center\">\n",
      "<li class=\"nav-item\" role=\"presentation\">\n",
      "<a class=\"nav-link\" href=\"/SessionDescription/0b20yl7p/\"><img src=\"/static/glyphicons/pushpin.png\"/> Description</a>\n",
      "</li>\n",
      "<li class=\"nav-item\" role=\"presentation\">\n",
      "<a class=\"nav-link\" href=\"/SessionStartLinks/0b20yl7p/\"><img src=\"/static/glyphicons/link.png\"/> Links</a>\n",
      "</li>\n",
      "<li class=\"nav-item\" role=\"presentation\">\n",
      "<a class=\"nav-link\" href=\"/SessionMonitor/0b20yl7p/\"><img src=\"/static/glyphicons/eye-open.png\"/> Monitor</a>\n",
      "</li>\n",
      "<li class=\"nav-item\" role=\"presentation\">\n",
      "<a class=\"nav-link\" href=\"/SessionData/0b20yl7p/\"><img src=\"/static/glyphicons/list-alt.png\"/> Data</a>\n",
      "</li>\n",
      "<li class=\"nav-item\" role=\"presentation\">\n",
      "<a class=\"nav-link active\" href=\"/SessionPayments/0b20yl7p/\">\n",
      "<img src=\"/static/glyphicons/usd.png\"/> Payments\n",
      "        </a>\n",
      "</li>\n",
      "<li role=\"presentation\">\n",
      "<a class=\"nav-link\" data-content=\"Recreate session from scratch. You can also copy this link and share with others.\" data-placement=\"top\" data-toggle=\"popover\" data-trigger=\"hover\" href=\"/demo/bertrand/\">\n",
      "<img src=\"/static/glyphicons/refresh.png\"/> New\n",
      "        </a>\n",
      "</li>\n",
      "</ul>\n",
      "<div>\n",
      "<div class=\"container\" style=\"max-width:970px\">\n",
      "<p>\n",
      "    Generated: <strong>May 13, 2021, 1:19 a.m.</strong>\n",
      "</p>\n",
      "<h3>Session</h3>\n",
      "<table class=\"table\">\n",
      "<tr>\n",
      "<th>Session config</th>\n",
      "<td>bertrand</td>\n",
      "</tr>\n",
      "<tr>\n",
      "<th>Session code</th>\n",
      "<td style=\"font-family: 'Courier New'\">0b20yl7p</td>\n",
      "</tr>\n",
      "<tr>\n",
      "<th>Experimenter name</th>\n",
      "<td></td>\n",
      "</tr>\n",
      "</table>\n",
      "<h3>Participants</h3>\n",
      "<table class=\"table table-striped\">\n",
      "<tr>\n",
      "<th>Participant code</th>\n",
      "<th>Participant label</th>\n",
      "<th>Progress</th>\n",
      "<th>Participation fee</th>\n",
      "<th>Payoff (bonus)</th>\n",
      "<th>Total</th>\n",
      "<th>Note</th>\n",
      "</tr>\n",
      "<tr>\n",
      "<td style=\"font-family: 'Courier New'\">061dw4yt</td>\n",
      "<td></td>\n",
      "<td>1/5 pages</td>\n",
      "<td>$0.00</td>\n",
      "<td>$0.00</td>\n",
      "<td>$0.00</td>\n",
      "<td></td>\n",
      "</tr>\n",
      "<tr>\n",
      "<td style=\"font-family: 'Courier New'\">pgvvc37h</td>\n",
      "<td></td>\n",
      "<td>1/5 pages</td>\n",
      "<td>$0.00</td>\n",
      "<td>$0.00</td>\n",
      "<td>$0.00</td>\n",
      "<td></td>\n",
      "</tr>\n",
      "</table>\n",
      "<h3>Summary</h3>\n",
      "<table class=\"table\">\n",
      "<tr>\n",
      "<th>Total payments</th>\n",
      "<td>$0.00</td>\n",
      "</tr>\n",
      "<tr>\n",
      "<th>Mean payment</th>\n",
      "<td>$0.00</td>\n",
      "</tr>\n",
      "</table>\n",
      "<h3>Notes/Signature</h3>\n",
      "<div class=\"card bg-light\">\n",
      "<br/>\n",
      "<br/>\n",
      "<br/>\n",
      "</div>\n",
      "</div>\n",
      "</div>\n",
      "<br/>\n",
      "</div>\n",
      "<script src=\"/static/otree/js/reconnecting-websocket.js\" type=\"text/javascript\"></script>\n",
      "<script src=\"/static/bootstrap4/js/bootstrap.bundle.min.js\"></script>\n",
      "<script src=\"/static/otree/js/init_widgets.js\"></script>\n",
      "<script>\n",
      "$(function () {\n",
      "    $('[data-toggle=\"popover\"]').popover()\n",
      "});\n",
      "$(function(){\n",
      "    // if top menu link is clicked inside iframe\n",
      "    // we exit full mode\n",
      "    $(\"#top_menu a\").click(function() {\n",
      "        if ( window.location !== window.parent.location ) {\n",
      "                window.parent.location.href = $(this).attr(\"href\");\n",
      "        }\n",
      "    });\n",
      "});\n",
      "$(function () {\n",
      "    $.ajax({\n",
      "        url: '/version_cached/',\n",
      "        type: 'GET',\n",
      "        success: function(data) {\n",
      "            if (!data.pypi_connection_error) {\n",
      "                if (data.update_needed) {\n",
      "                    $('._otree-updates').html(\n",
      "                        '<a class=\"nav-link\" href=\"/server_check/\"><small>Update available</small></a>')\n",
      "                }\n",
      "            }\n",
      "        }\n",
      "    });\n",
      "});\n",
      "\n",
      "</script>\n",
      "<script src=\"/static/otree/js/jquery.color-2.1.2.min.js\"></script>\n",
      "<script src=\"/static/otree/js/jquery.timeago.js\"></script>\n",
      "<script src=\"/static/otree/js/jsondiffpatch.min.js\"></script>\n",
      "<script src=\"/static/otree/js/table-utils3.js\"></script>\n",
      "</body>\n",
      "</html>\n",
      "\n"
     ]
    }
   ],
   "source": [
    "print(soup)\n"
   ]
  },
  {
   "cell_type": "code",
   "execution_count": null,
   "metadata": {},
   "outputs": [],
   "source": []
  },
  {
   "cell_type": "code",
   "execution_count": 16,
   "metadata": {},
   "outputs": [
    {
     "data": {
      "text/plain": [
       "[<td>bertrand</td>,\n",
       " <td style=\"font-family: 'Courier New'\">0b20yl7p</td>,\n",
       " <td></td>,\n",
       " <td style=\"font-family: 'Courier New'\">061dw4yt</td>,\n",
       " <td></td>,\n",
       " <td>1/5 pages</td>,\n",
       " <td>$0.00</td>,\n",
       " <td>$0.00</td>,\n",
       " <td>$0.00</td>,\n",
       " <td></td>,\n",
       " <td style=\"font-family: 'Courier New'\">pgvvc37h</td>,\n",
       " <td></td>,\n",
       " <td>1/5 pages</td>,\n",
       " <td>$0.00</td>,\n",
       " <td>$0.00</td>,\n",
       " <td>$0.00</td>,\n",
       " <td></td>,\n",
       " <td>$0.00</td>,\n",
       " <td>$0.00</td>]"
      ]
     },
     "execution_count": 16,
     "metadata": {},
     "output_type": "execute_result"
    }
   ],
   "source": [
    "texto = soup.find_all('td')  #todos los parrafos\n",
    "#retorna una LISTA\n",
    "#clic derecho en la pagina e inspeccionamos elemento, ex: un parrafo <p>\n",
    "texto"
   ]
  },
  {
   "cell_type": "code",
   "execution_count": 17,
   "metadata": {},
   "outputs": [
    {
     "data": {
      "text/plain": [
       "bs4.element.ResultSet"
      ]
     },
     "execution_count": 17,
     "metadata": {},
     "output_type": "execute_result"
    }
   ],
   "source": [
    "len(texto)\n",
    "type(texto)"
   ]
  },
  {
   "cell_type": "code",
   "execution_count": 13,
   "metadata": {},
   "outputs": [],
   "source": [
    "#siguen existiendo etiquetas HTML"
   ]
  },
  {
   "cell_type": "code",
   "execution_count": 19,
   "metadata": {},
   "outputs": [
    {
     "data": {
      "text/plain": [
       "<td></td>"
      ]
     },
     "execution_count": 19,
     "metadata": {},
     "output_type": "execute_result"
    }
   ],
   "source": [
    "texto[2]\n",
    "#nos centramos en un parrafo especifcio"
   ]
  },
  {
   "cell_type": "code",
   "execution_count": 20,
   "metadata": {},
   "outputs": [
    {
     "name": "stdout",
     "output_type": "stream",
     "text": [
      "\n"
     ]
    }
   ],
   "source": [
    "print(texto[2].text)      #me vole todo los html"
   ]
  },
  {
   "cell_type": "code",
   "execution_count": 18,
   "metadata": {},
   "outputs": [
    {
     "name": "stdout",
     "output_type": "stream",
     "text": [
      "bertrand\n",
      "0b20yl7p\n",
      "\n",
      "061dw4yt\n",
      "\n",
      "1/5 pages\n",
      "$0.00\n",
      "$0.00\n",
      "$0.00\n",
      "\n",
      "pgvvc37h\n",
      "\n",
      "1/5 pages\n",
      "$0.00\n",
      "$0.00\n",
      "$0.00\n",
      "\n",
      "$0.00\n",
      "$0.00\n"
     ]
    }
   ],
   "source": [
    "#si quiero todos los parrafos de la WIKI\n",
    "for i in texto:\n",
    "    print(i.text)"
   ]
  },
  {
   "cell_type": "code",
   "execution_count": null,
   "metadata": {},
   "outputs": [],
   "source": []
  },
  {
   "cell_type": "code",
   "execution_count": null,
   "metadata": {},
   "outputs": [],
   "source": []
  },
  {
   "cell_type": "code",
   "execution_count": null,
   "metadata": {},
   "outputs": [],
   "source": []
  },
  {
   "cell_type": "code",
   "execution_count": null,
   "metadata": {},
   "outputs": [],
   "source": [
    "\n",
    "# actividaes:\n",
    "\n",
    "# f(x) SACAR URL ENLACES DE UNA WIKI\n",
    "# f(x) SACAR INDICE DE UNA WIKI\n",
    "# f(x) SACAR IMAGENES DE UNA WIKI"
   ]
  }
 ],
 "metadata": {
  "kernelspec": {
   "display_name": "Python 3",
   "language": "python",
   "name": "python3"
  },
  "language_info": {
   "codemirror_mode": {
    "name": "ipython",
    "version": 3
   },
   "file_extension": ".py",
   "mimetype": "text/x-python",
   "name": "python",
   "nbconvert_exporter": "python",
   "pygments_lexer": "ipython3",
   "version": "3.8.5"
  }
 },
 "nbformat": 4,
 "nbformat_minor": 4
}
